import pandas as pd
import numpy as np

def normalize_value(val):
    """
    Normalize a value for comparison:
    - Remove commas
    - Convert numeric-looking strings to float or int
    - Lowercase and strip strings
    """
    if pd.isnull(val):
        return ""
    
    # Try converting to float after removing commas
    try:
        val = str(val).replace(",", "")
        num = float(val)
        return int(num) if num.is_integer() else num
    except:
        return str(val).strip().lower()

def compare_sheet_rows(file_path, sheet1, sheet2, compare_columns):
    """
    Compares selected columns from sheet2 against sheet1 row-by-row.
    Returns a detailed match result dataframe.
    """
    # Read Excel sheets
    df1 = pd.read_excel(file_path, sheet_name=sheet1)
    df2 = pd.read_excel(file_path, sheet_name=sheet2)

    # Normalize selected columns in both DataFrames
    for col in compare_columns:
        if col in df1.columns:
            df1[col] = df1[col].apply(normalize_value)
        if col in df2.columns:
            df2[col] = df2[col].apply(normalize_value)

    results = []

    for _, row2 in df2.iterrows():
        best_match_index = -1
        best_score = 0
        best_row1 = None

        for _, row1 in df1.iterrows():
            score = sum([
                row1.get(col, "") == row2.get(col, "") for col in compare_columns
            ])
            if score > best_score:
                best_score = score
                best_row1 = row1

        row_result = {}
        overall_match = True

        for col in compare_columns:
            val1 = best_row1[col] if best_row1 is not None and col in best_row1 else ""
            val2 = row2[col] if col in row2 else ""

            is_match = val1 == val2
            row_result[col] = is_match
            row_result[f"{col}_sheet1"] = val1
            row_result[f"{col}_sheet2"] = val2

            if not is_match:
                overall_match = False

        row_result["overall_row_match"] = overall_match
        results.append(row_result)

    # Format final DataFrame
    final_df = pd.DataFrame(results)
    ordered_cols = ["overall_row_match"]
    for col in compare_columns:
        ordered_cols += [col, f"{col}_sheet1", f"{col}_sheet2"]

    return final_df[ordered_cols]
