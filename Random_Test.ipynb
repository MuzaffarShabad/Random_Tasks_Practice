import pandas as pd
from dateutil import parser
import re

def normalize_value(val):
    if pd.isna(val):
        return ''
    
    # Remove commas from numbers like 22,900.00
    if isinstance(val, str):
        val = val.strip()
        val = val.replace(',', '')
    
    # Try parsing as float (handles '30' vs '30.0')
    try:
        float_val = float(val)
        return str(int(float_val)) if float_val.is_integer() else str(float_val)
    except:
        pass
    
    # Try parsing as date
    try:
        dt = parser.parse(str(val), dayfirst=False, yearfirst=False)
        return dt.strftime('%Y-%m-%d')
    except:
        pass

    # Treat everything else as lowercase trimmed string
    return str(val).strip().lower()


def compare_excel_sheets(file_path, sheet1='Sheet1', sheet2='Sheet2', compare_columns=[]):
    # Load sheets
    df1 = pd.read_excel(file_path, sheet_name=sheet1)
    df2 = pd.read_excel(file_path, sheet_name=sheet2)

    # Ensure columns exist in both
    common_columns = [col for col in compare_columns if col in df1.columns and col in df2.columns]
    
    if not common_columns:
        raise ValueError("No valid common columns found in both sheets")

    # Normalize relevant columns
    df1_norm = df1[common_columns].applymap(normalize_value)
    df2_norm = df2[common_columns].applymap(normalize_value)

    results = []

    for idx2, row2 in df2_norm.iterrows():
        match_found = False
        best_match_row = None
        best_match_flags = []

        for idx1, row1 in df1_norm.iterrows():
            flags = [row1[col] == row2[col] for col in common_columns]
            if all(flags):
                match_found = True
                best_match_row = df1.loc[idx1]
                best_match_flags = flags
                break
            elif any(flags) and best_match_row is None:
                best_match_row = df1.loc[idx1]
                best_match_flags = flags

        result_row = {}

        for i, col in enumerate(common_columns):
            result_row[col] = best_match_flags[i] if best_match_flags else False
            result_row[f'{col}_sheet1'] = best_match_row[col] if best_match_row is not None else ''
            result_row[f'{col}_sheet2'] = df2.loc[idx2][col]

        results.append(result_row)

    return pd.DataFrame(results)
